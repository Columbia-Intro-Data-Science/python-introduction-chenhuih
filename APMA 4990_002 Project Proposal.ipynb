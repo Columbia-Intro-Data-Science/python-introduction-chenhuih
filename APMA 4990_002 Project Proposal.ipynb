{
 "cells": [
  {
   "cell_type": "markdown",
   "metadata": {
    "collapsed": false
   },
   "source": [
    "# APMA 4990_002 Data Science in Industry Final Project\n"
   ]
  },
  {
   "cell_type": "markdown",
   "metadata": {},
   "source": [
    "\n",
    "#### Team Members: Bing Han, Chenhui Huang\n",
    "#### Role: Chenhui - Front End Design and Implementation, Bing - Back end ML algorithm\n",
    "#### Tools: Python/R/MATLAB (TBD)"
   ]
  },
  {
   "cell_type": "markdown",
   "metadata": {},
   "source": [
    "## Motivation and Background\n",
    "\n",
    "<span style=\"color: #black; font-family: futura; font-size: 1em;\">\n",
    "The idea of using the chart with candlesticks (or candles) for predicting market prices is very old. Two centuries ago, Japanese rice trader found that the candlesticks pattern chart could be used as a tool to predict future prices in a free market with a natural demand-supply balance. The method was improved later by others and today it is successfully used by many traders and investors in the stock market.\n",
    "</span>\n",
    "\n",
    "### What is candlestick chart?\n",
    "\n",
    "<span style=\"color: #black; font-family: futura; font-size: 1em;\">\n",
    "A candlestick is presented using high, low, opening, and closing prices during a certain trading period, for example, trading day. A regular candlestick figure consists of Real Body, Upper Shadow, and Lower Shadow. The number of candlesticks that is normally used for predicting can range within 1..12. Evidently, the number of different combinations of several candlesticks in a row can be big. \n",
    "</span>\n",
    "\n",
    "![alt text](http://globaltrendtraders.com/wp-content/uploads/2010/04/candlestick.gif)\n",
    "Figure 1. The aspects of a candle\n",
    "\n",
    "### What are some common candlestick patterns?\n",
    "\n",
    "![alt text](https://www.forexmt4indicators.com/wp-content/uploads/2016/09/candlestick-patterns.png)\n",
    "Figure 2. Common candlestick patterns\n",
    "\n",
    "### Some common powerful candlestick pattern\n",
    "#### 1. Three Line Strike\n",
    "\n",
    "<span style=\"color: #black; font-family: futura; font-size: 1em;\">\n",
    "The bullish three line strike reversal pattern carves out three black candles within a downtrend. Each bar posts a lower low and closes near the intrabar low. The fourth bar opens even lower but reverses in a wide-range outside bar that closes above the high of the first candle in the series. The opening print also marks the low of the fourth bar. According to Bulkowski, this reversal predicts higher prices with an 84% accuracy rate.\n",
    "</span>\n",
    "\n",
    "![alt text](http://i.investopedia.com/u53687/3linestrike.png)\n",
    "\n",
    "#### 2. Evening Stars\n",
    "\n",
    "The bearish evening star reversal pattern starts with a tall white bar that carries an uptrend to a new high. The market gaps higher on the next bar but fresh buyers fail to appear, yielding a narrow range candlestick. A gap down on the third bar completes the pattern, which predicts the decline will continue to even lower lows, perhaps triggering a broader scale downtrend. According to Bulkowski, this pattern predicts lower prices with a 72% accuracy rate.\n",
    "\n",
    "![alt text](http://i.investopedia.com/u53687/eveningstar.png)\n",
    "\n",
    "#### 3. Abandoned Baby\n",
    "\n",
    "The bullish abandoned baby reversal pattern appears at the low of a downtrend, after a series of black candles print lower lows. The market gaps lower on the next bar but fresh sellers fail to appear, yielding a narrow range doji candlestick with opening and closing prints at the same price. A bullish gap on the third bar completes the pattern, which predicts the recovery will continue to even higher highs, perhaps triggering a broader scale uptrend. According to Bulkowski, this pattern predicts higher prices with a 70% accuracy rate.\n",
    "\n",
    "![alt text](http://i.investopedia.com/u53687/abandonbaby.png)\n",
    "\n",
    "Reference:\n",
    "\n",
    "[Wikipedia: Candlestick pattern](https://en.wikipedia.org/wiki/Candlestick_pattern)\n",
    "[The 5 Most Powerful Candlestick Patterns](http://www.investopedia.com/articles/active-trading/092315/5-most-powerful-candlestick-patterns.asp)"
   ]
  },
  {
   "cell_type": "markdown",
   "metadata": {},
   "source": [
    "## Goal\n",
    "\n",
    "In our project, we will try to design a stock price trend predicting model based on the previous stock price data. Through our model and web app, users can make desicions if they should buy or sell particular stocks in order to make profit. \n",
    " \n",
    "In order to achieve our goal, we plan to utilize a backpropagation neuron network model based on the analysis of stocks' Candlestick patterns to make predictions on stock price trend, which means the price of a particular stock will rise or fall in a short term.\n"
   ]
  }
 ],
 "metadata": {
  "kernelspec": {
   "display_name": "Python 3",
   "language": "python",
   "name": "python3"
  },
  "language_info": {
   "codemirror_mode": {
    "name": "ipython",
    "version": 3
   },
   "file_extension": ".py",
   "mimetype": "text/x-python",
   "name": "python",
   "nbconvert_exporter": "python",
   "pygments_lexer": "ipython3",
   "version": "3.6.0"
  }
 },
 "nbformat": 4,
 "nbformat_minor": 2
}
