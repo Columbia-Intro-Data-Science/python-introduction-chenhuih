{
 "cells": [
  {
   "cell_type": "markdown",
   "metadata": {
    "collapsed": true
   },
   "source": [
    "Q1: Give a count of all videos currently out."
   ]
  },
  {
   "cell_type": "code",
   "execution_count": null,
   "metadata": {
    "collapsed": true
   },
   "outputs": [],
   "source": [
    "SELECT COUNT(*)\n",
    "FROM rental\n",
    "WHERE return_date is NULL"
   ]
  },
  {
   "cell_type": "code",
   "execution_count": null,
   "metadata": {
    "collapsed": true
   },
   "outputs": [],
   "source": [
    "Count\n",
    "183"
   ]
  },
  {
   "cell_type": "markdown",
   "metadata": {
    "collapsed": true
   },
   "source": [
    "Q2: Make a list of all customer names who have videos out and how much they owe."
   ]
  },
  {
   "cell_type": "code",
   "execution_count": null,
   "metadata": {
    "collapsed": true
   },
   "outputs": [],
   "source": [
    "SELECT first_name, last_name, COUNT(*) FROM customer\n",
    "JOIN rental ON customer.customer_id = rental.customer_id\n",
    "WHERE return_date is NULL\n",
    "GROUP BY first_name, last_name\n",
    "ORDER BY last_name"
   ]
  },
  {
   "cell_type": "code",
   "execution_count": null,
   "metadata": {
    "collapsed": true
   },
   "outputs": [],
   "source": [
    "First_name\tLast_name\tCount\n",
    "Rafael\tAbney\t1\n",
    "Lisa\tAnderson\t1\n",
    "Jordan\tArchuleta\t2\n",
    "Melanie\tArmstrong\t1\n",
    "Darryl\tAshcraft\t1\n",
    "Mildred\tBailey\t2\n",
    "Jessie\tBanks\t1\n",
    "Daisy\tBates\t1\n",
    "Edward\tBaugh\t1\n",
    "Jean\tBell\t1"
   ]
  },
  {
   "cell_type": "markdown",
   "metadata": {},
   "source": [
    "Q4: Using a $1 per day late fee. Find out which users owe the most assuming all rentals are a week long."
   ]
  },
  {
   "cell_type": "code",
   "execution_count": null,
   "metadata": {
    "collapsed": true
   },
   "outputs": [],
   "source": [
    "SELECT customer.customer_id,\n",
    "       date(rental.return_date) - date(rental.rental_date) - 7 AS late_fee\n",
    "FROM rental\n",
    "JOIN customer ON customer.customer_id = rental.customer_id\n",
    "WHERE date(rental.return_date) - date(rental.rental_date) - 7 >= 0\n",
    "ORDER BY late_fee DESC;"
   ]
  },
  {
   "cell_type": "code",
   "execution_count": null,
   "metadata": {
    "collapsed": true
   },
   "outputs": [],
   "source": [
    "Customer_id\tLate_fee\n",
    "106\t3\n",
    "498\t3\n",
    "343\t3\n",
    "509\t3\n",
    "539\t3\n",
    "187\t3\n",
    "327\t3\n",
    "51\t3\n",
    "182\t3\n",
    "207\t3"
   ]
  },
  {
   "cell_type": "markdown",
   "metadata": {
    "collapsed": true
   },
   "source": [
    "Q5: What hour of the day to people rent the most ?"
   ]
  },
  {
   "cell_type": "code",
   "execution_count": null,
   "metadata": {
    "collapsed": true
   },
   "outputs": [],
   "source": [
    "SELECT EXTRACT(HOUR FROM rental_date) AS HOUR, \n",
    "COUNT(EXTRACT(HOUR FROM rental_date))\n",
    "FROM rental\n",
    "GROUP BY HOUR\n",
    "ORDER BY COUNT DESC\n",
    "LIMIT 1"
   ]
  },
  {
   "cell_type": "code",
   "execution_count": null,
   "metadata": {
    "collapsed": true
   },
   "outputs": [],
   "source": [
    "Hour\tCount\n",
    "15.00\t887"
   ]
  }
 ],
 "metadata": {
  "kernelspec": {
   "display_name": "Python 3",
   "language": "python",
   "name": "python3"
  },
  "language_info": {
   "codemirror_mode": {
    "name": "ipython",
    "version": 3
   },
   "file_extension": ".py",
   "mimetype": "text/x-python",
   "name": "python",
   "nbconvert_exporter": "python",
   "pygments_lexer": "ipython3",
   "version": "3.6.0"
  }
 },
 "nbformat": 4,
 "nbformat_minor": 2
}
